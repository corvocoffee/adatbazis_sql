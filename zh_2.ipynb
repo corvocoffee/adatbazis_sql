{
    "metadata": {
        "kernelspec": {
            "name": "SQL",
            "display_name": "SQL",
            "language": "sql"
        },
        "language_info": {
            "name": "sql",
            "version": ""
        }
    },
    "nbformat_minor": 2,
    "nbformat": 4,
    "cells": [
        {
            "cell_type": "code",
            "source": [
                "SELECT sz.SZOBA_SZAMA, \r\n",
                "CAST(YEAR(F.METTOL) AS nvarchar)  AS 'Foglalás éve',\r\n",
                "COUNT(*)\r\n",
                "FROM Foglalas f JOIN Szoba sz ON sz.SZOBA_ID = f.SZOBA_FK\r\n",
                "GROUP BY ROLLUP(sz.SZOBA_SZAMA, YEAR(F.METTOL))\r\n",
                "\r\n",
                "\r\n",
                "\r\n",
                ""
            ],
            "metadata": {
                "azdata_cell_guid": "6c3e2806-7b74-4f40-bd54-95ef304c29bc",
                "language": "sql"
            },
            "outputs": [
                {
                    "output_type": "display_data",
                    "data": {
                        "text/html": "(116 rows affected)"
                    },
                    "metadata": {}
                },
                {
                    "output_type": "display_data",
                    "data": {
                        "text/html": "Total execution time: 00:00:00.015"
                    },
                    "metadata": {}
                },
                {
                    "output_type": "execute_result",
                    "metadata": {},
                    "execution_count": 16,
                    "data": {
                        "application/vnd.dataresource+json": {
                            "schema": {
                                "fields": [
                                    {
                                        "name": "SZOBA_SZAMA"
                                    },
                                    {
                                        "name": "Foglalás éve"
                                    },
                                    {
                                        "name": "(No column name)"
                                    }
                                ]
                            },
                            "data": [
                                {
                                    "SZOBA_SZAMA": "1",
                                    "Foglalás éve": "2016",
                                    "(No column name)": "52"
                                },
                                {
                                    "SZOBA_SZAMA": "1",
                                    "Foglalás éve": "2017",
                                    "(No column name)": "5"
                                },
                                {
                                    "SZOBA_SZAMA": "1",
                                    "Foglalás éve": "NULL",
                                    "(No column name)": "57"
                                },
                                {
                                    "SZOBA_SZAMA": "10",
                                    "Foglalás éve": "2016",
                                    "(No column name)": "31"
                                },
                                {
                                    "SZOBA_SZAMA": "10",
                                    "Foglalás éve": "2017",
                                    "(No column name)": "4"
                                },
                                {
                                    "SZOBA_SZAMA": "10",
                                    "Foglalás éve": "NULL",
                                    "(No column name)": "35"
                                },
                                {
                                    "SZOBA_SZAMA": "11",
                                    "Foglalás éve": "2016",
                                    "(No column name)": "22"
                                },
                                {
                                    "SZOBA_SZAMA": "11",
                                    "Foglalás éve": "2017",
                                    "(No column name)": "6"
                                },
                                {
                                    "SZOBA_SZAMA": "11",
                                    "Foglalás éve": "NULL",
                                    "(No column name)": "28"
                                },
                                {
                                    "SZOBA_SZAMA": "12",
                                    "Foglalás éve": "2016",
                                    "(No column name)": "29"
                                },
                                {
                                    "SZOBA_SZAMA": "12",
                                    "Foglalás éve": "2017",
                                    "(No column name)": "5"
                                },
                                {
                                    "SZOBA_SZAMA": "12",
                                    "Foglalás éve": "NULL",
                                    "(No column name)": "34"
                                },
                                {
                                    "SZOBA_SZAMA": "13",
                                    "Foglalás éve": "2016",
                                    "(No column name)": "14"
                                },
                                {
                                    "SZOBA_SZAMA": "13",
                                    "Foglalás éve": "2017",
                                    "(No column name)": "3"
                                },
                                {
                                    "SZOBA_SZAMA": "13",
                                    "Foglalás éve": "NULL",
                                    "(No column name)": "17"
                                },
                                {
                                    "SZOBA_SZAMA": "14",
                                    "Foglalás éve": "2016",
                                    "(No column name)": "20"
                                },
                                {
                                    "SZOBA_SZAMA": "14",
                                    "Foglalás éve": "2017",
                                    "(No column name)": "6"
                                },
                                {
                                    "SZOBA_SZAMA": "14",
                                    "Foglalás éve": "NULL",
                                    "(No column name)": "26"
                                },
                                {
                                    "SZOBA_SZAMA": "15",
                                    "Foglalás éve": "2016",
                                    "(No column name)": "16"
                                },
                                {
                                    "SZOBA_SZAMA": "15",
                                    "Foglalás éve": "2017",
                                    "(No column name)": "9"
                                },
                                {
                                    "SZOBA_SZAMA": "15",
                                    "Foglalás éve": "NULL",
                                    "(No column name)": "25"
                                },
                                {
                                    "SZOBA_SZAMA": "16",
                                    "Foglalás éve": "2016",
                                    "(No column name)": "12"
                                },
                                {
                                    "SZOBA_SZAMA": "16",
                                    "Foglalás éve": "2017",
                                    "(No column name)": "4"
                                },
                                {
                                    "SZOBA_SZAMA": "16",
                                    "Foglalás éve": "NULL",
                                    "(No column name)": "16"
                                },
                                {
                                    "SZOBA_SZAMA": "17",
                                    "Foglalás éve": "2016",
                                    "(No column name)": "16"
                                },
                                {
                                    "SZOBA_SZAMA": "17",
                                    "Foglalás éve": "2017",
                                    "(No column name)": "2"
                                },
                                {
                                    "SZOBA_SZAMA": "17",
                                    "Foglalás éve": "NULL",
                                    "(No column name)": "18"
                                },
                                {
                                    "SZOBA_SZAMA": "18",
                                    "Foglalás éve": "2016",
                                    "(No column name)": "19"
                                },
                                {
                                    "SZOBA_SZAMA": "18",
                                    "Foglalás éve": "2017",
                                    "(No column name)": "5"
                                },
                                {
                                    "SZOBA_SZAMA": "18",
                                    "Foglalás éve": "NULL",
                                    "(No column name)": "24"
                                },
                                {
                                    "SZOBA_SZAMA": "19",
                                    "Foglalás éve": "2016",
                                    "(No column name)": "14"
                                },
                                {
                                    "SZOBA_SZAMA": "19",
                                    "Foglalás éve": "2017",
                                    "(No column name)": "5"
                                },
                                {
                                    "SZOBA_SZAMA": "19",
                                    "Foglalás éve": "NULL",
                                    "(No column name)": "19"
                                },
                                {
                                    "SZOBA_SZAMA": "2",
                                    "Foglalás éve": "2016",
                                    "(No column name)": "40"
                                },
                                {
                                    "SZOBA_SZAMA": "2",
                                    "Foglalás éve": "2017",
                                    "(No column name)": "10"
                                },
                                {
                                    "SZOBA_SZAMA": "2",
                                    "Foglalás éve": "NULL",
                                    "(No column name)": "50"
                                },
                                {
                                    "SZOBA_SZAMA": "20",
                                    "Foglalás éve": "2016",
                                    "(No column name)": "18"
                                },
                                {
                                    "SZOBA_SZAMA": "20",
                                    "Foglalás éve": "2017",
                                    "(No column name)": "3"
                                },
                                {
                                    "SZOBA_SZAMA": "20",
                                    "Foglalás éve": "NULL",
                                    "(No column name)": "21"
                                },
                                {
                                    "SZOBA_SZAMA": "21",
                                    "Foglalás éve": "2016",
                                    "(No column name)": "29"
                                },
                                {
                                    "SZOBA_SZAMA": "21",
                                    "Foglalás éve": "2017",
                                    "(No column name)": "4"
                                },
                                {
                                    "SZOBA_SZAMA": "21",
                                    "Foglalás éve": "NULL",
                                    "(No column name)": "33"
                                },
                                {
                                    "SZOBA_SZAMA": "22",
                                    "Foglalás éve": "2016",
                                    "(No column name)": "14"
                                },
                                {
                                    "SZOBA_SZAMA": "22",
                                    "Foglalás éve": "2017",
                                    "(No column name)": "5"
                                },
                                {
                                    "SZOBA_SZAMA": "22",
                                    "Foglalás éve": "NULL",
                                    "(No column name)": "19"
                                },
                                {
                                    "SZOBA_SZAMA": "23",
                                    "Foglalás éve": "2016",
                                    "(No column name)": "18"
                                },
                                {
                                    "SZOBA_SZAMA": "23",
                                    "Foglalás éve": "2017",
                                    "(No column name)": "3"
                                },
                                {
                                    "SZOBA_SZAMA": "23",
                                    "Foglalás éve": "NULL",
                                    "(No column name)": "21"
                                },
                                {
                                    "SZOBA_SZAMA": "24",
                                    "Foglalás éve": "2016",
                                    "(No column name)": "16"
                                },
                                {
                                    "SZOBA_SZAMA": "24",
                                    "Foglalás éve": "2017",
                                    "(No column name)": "1"
                                },
                                {
                                    "SZOBA_SZAMA": "24",
                                    "Foglalás éve": "NULL",
                                    "(No column name)": "17"
                                },
                                {
                                    "SZOBA_SZAMA": "25",
                                    "Foglalás éve": "2016",
                                    "(No column name)": "17"
                                },
                                {
                                    "SZOBA_SZAMA": "25",
                                    "Foglalás éve": "2017",
                                    "(No column name)": "4"
                                },
                                {
                                    "SZOBA_SZAMA": "25",
                                    "Foglalás éve": "NULL",
                                    "(No column name)": "21"
                                },
                                {
                                    "SZOBA_SZAMA": "26",
                                    "Foglalás éve": "2016",
                                    "(No column name)": "5"
                                },
                                {
                                    "SZOBA_SZAMA": "26",
                                    "Foglalás éve": "2017",
                                    "(No column name)": "5"
                                },
                                {
                                    "SZOBA_SZAMA": "26",
                                    "Foglalás éve": "NULL",
                                    "(No column name)": "10"
                                },
                                {
                                    "SZOBA_SZAMA": "27",
                                    "Foglalás éve": "2016",
                                    "(No column name)": "12"
                                },
                                {
                                    "SZOBA_SZAMA": "27",
                                    "Foglalás éve": "2017",
                                    "(No column name)": "4"
                                },
                                {
                                    "SZOBA_SZAMA": "27",
                                    "Foglalás éve": "NULL",
                                    "(No column name)": "16"
                                },
                                {
                                    "SZOBA_SZAMA": "28",
                                    "Foglalás éve": "2016",
                                    "(No column name)": "11"
                                },
                                {
                                    "SZOBA_SZAMA": "28",
                                    "Foglalás éve": "2017",
                                    "(No column name)": "4"
                                },
                                {
                                    "SZOBA_SZAMA": "28",
                                    "Foglalás éve": "NULL",
                                    "(No column name)": "15"
                                },
                                {
                                    "SZOBA_SZAMA": "29",
                                    "Foglalás éve": "2016",
                                    "(No column name)": "15"
                                },
                                {
                                    "SZOBA_SZAMA": "29",
                                    "Foglalás éve": "2017",
                                    "(No column name)": "3"
                                },
                                {
                                    "SZOBA_SZAMA": "29",
                                    "Foglalás éve": "NULL",
                                    "(No column name)": "18"
                                },
                                {
                                    "SZOBA_SZAMA": "3",
                                    "Foglalás éve": "2016",
                                    "(No column name)": "53"
                                },
                                {
                                    "SZOBA_SZAMA": "3",
                                    "Foglalás éve": "2017",
                                    "(No column name)": "12"
                                },
                                {
                                    "SZOBA_SZAMA": "3",
                                    "Foglalás éve": "NULL",
                                    "(No column name)": "65"
                                },
                                {
                                    "SZOBA_SZAMA": "30",
                                    "Foglalás éve": "2016",
                                    "(No column name)": "9"
                                },
                                {
                                    "SZOBA_SZAMA": "30",
                                    "Foglalás éve": "2017",
                                    "(No column name)": "3"
                                },
                                {
                                    "SZOBA_SZAMA": "30",
                                    "Foglalás éve": "NULL",
                                    "(No column name)": "12"
                                },
                                {
                                    "SZOBA_SZAMA": "31",
                                    "Foglalás éve": "2016",
                                    "(No column name)": "19"
                                },
                                {
                                    "SZOBA_SZAMA": "31",
                                    "Foglalás éve": "2017",
                                    "(No column name)": "2"
                                },
                                {
                                    "SZOBA_SZAMA": "31",
                                    "Foglalás éve": "NULL",
                                    "(No column name)": "21"
                                },
                                {
                                    "SZOBA_SZAMA": "32",
                                    "Foglalás éve": "2016",
                                    "(No column name)": "13"
                                },
                                {
                                    "SZOBA_SZAMA": "32",
                                    "Foglalás éve": "2017",
                                    "(No column name)": "5"
                                },
                                {
                                    "SZOBA_SZAMA": "32",
                                    "Foglalás éve": "NULL",
                                    "(No column name)": "18"
                                },
                                {
                                    "SZOBA_SZAMA": "33",
                                    "Foglalás éve": "2016",
                                    "(No column name)": "17"
                                },
                                {
                                    "SZOBA_SZAMA": "33",
                                    "Foglalás éve": "NULL",
                                    "(No column name)": "17"
                                },
                                {
                                    "SZOBA_SZAMA": "34",
                                    "Foglalás éve": "2016",
                                    "(No column name)": "19"
                                },
                                {
                                    "SZOBA_SZAMA": "34",
                                    "Foglalás éve": "2017",
                                    "(No column name)": "3"
                                },
                                {
                                    "SZOBA_SZAMA": "34",
                                    "Foglalás éve": "NULL",
                                    "(No column name)": "22"
                                },
                                {
                                    "SZOBA_SZAMA": "35",
                                    "Foglalás éve": "2016",
                                    "(No column name)": "5"
                                },
                                {
                                    "SZOBA_SZAMA": "35",
                                    "Foglalás éve": "NULL",
                                    "(No column name)": "5"
                                },
                                {
                                    "SZOBA_SZAMA": "36",
                                    "Foglalás éve": "2016",
                                    "(No column name)": "4"
                                },
                                {
                                    "SZOBA_SZAMA": "36",
                                    "Foglalás éve": "2017",
                                    "(No column name)": "2"
                                },
                                {
                                    "SZOBA_SZAMA": "36",
                                    "Foglalás éve": "NULL",
                                    "(No column name)": "6"
                                },
                                {
                                    "SZOBA_SZAMA": "37",
                                    "Foglalás éve": "2016",
                                    "(No column name)": "6"
                                },
                                {
                                    "SZOBA_SZAMA": "37",
                                    "Foglalás éve": "2017",
                                    "(No column name)": "1"
                                },
                                {
                                    "SZOBA_SZAMA": "37",
                                    "Foglalás éve": "NULL",
                                    "(No column name)": "7"
                                },
                                {
                                    "SZOBA_SZAMA": "38",
                                    "Foglalás éve": "2016",
                                    "(No column name)": "3"
                                },
                                {
                                    "SZOBA_SZAMA": "38",
                                    "Foglalás éve": "2017",
                                    "(No column name)": "2"
                                },
                                {
                                    "SZOBA_SZAMA": "38",
                                    "Foglalás éve": "NULL",
                                    "(No column name)": "5"
                                },
                                {
                                    "SZOBA_SZAMA": "39",
                                    "Foglalás éve": "2016",
                                    "(No column name)": "2"
                                },
                                {
                                    "SZOBA_SZAMA": "39",
                                    "Foglalás éve": "2017",
                                    "(No column name)": "2"
                                },
                                {
                                    "SZOBA_SZAMA": "39",
                                    "Foglalás éve": "NULL",
                                    "(No column name)": "4"
                                },
                                {
                                    "SZOBA_SZAMA": "4",
                                    "Foglalás éve": "2016",
                                    "(No column name)": "64"
                                },
                                {
                                    "SZOBA_SZAMA": "4",
                                    "Foglalás éve": "2017",
                                    "(No column name)": "11"
                                },
                                {
                                    "SZOBA_SZAMA": "4",
                                    "Foglalás éve": "NULL",
                                    "(No column name)": "75"
                                },
                                {
                                    "SZOBA_SZAMA": "5",
                                    "Foglalás éve": "2016",
                                    "(No column name)": "53"
                                },
                                {
                                    "SZOBA_SZAMA": "5",
                                    "Foglalás éve": "2017",
                                    "(No column name)": "9"
                                },
                                {
                                    "SZOBA_SZAMA": "5",
                                    "Foglalás éve": "NULL",
                                    "(No column name)": "62"
                                },
                                {
                                    "SZOBA_SZAMA": "6",
                                    "Foglalás éve": "2016",
                                    "(No column name)": "48"
                                },
                                {
                                    "SZOBA_SZAMA": "6",
                                    "Foglalás éve": "2017",
                                    "(No column name)": "4"
                                },
                                {
                                    "SZOBA_SZAMA": "6",
                                    "Foglalás éve": "NULL",
                                    "(No column name)": "52"
                                },
                                {
                                    "SZOBA_SZAMA": "7",
                                    "Foglalás éve": "2016",
                                    "(No column name)": "32"
                                },
                                {
                                    "SZOBA_SZAMA": "7",
                                    "Foglalás éve": "2017",
                                    "(No column name)": "4"
                                },
                                {
                                    "SZOBA_SZAMA": "7",
                                    "Foglalás éve": "NULL",
                                    "(No column name)": "36"
                                },
                                {
                                    "SZOBA_SZAMA": "8",
                                    "Foglalás éve": "2016",
                                    "(No column name)": "24"
                                },
                                {
                                    "SZOBA_SZAMA": "8",
                                    "Foglalás éve": "2017",
                                    "(No column name)": "6"
                                },
                                {
                                    "SZOBA_SZAMA": "8",
                                    "Foglalás éve": "NULL",
                                    "(No column name)": "30"
                                },
                                {
                                    "SZOBA_SZAMA": "9",
                                    "Foglalás éve": "2016",
                                    "(No column name)": "41"
                                },
                                {
                                    "SZOBA_SZAMA": "9",
                                    "Foglalás éve": "2017",
                                    "(No column name)": "9"
                                },
                                {
                                    "SZOBA_SZAMA": "9",
                                    "Foglalás éve": "NULL",
                                    "(No column name)": "50"
                                },
                                {
                                    "SZOBA_SZAMA": "NULL",
                                    "Foglalás éve": "NULL",
                                    "(No column name)": "1027"
                                }
                            ]
                        },
                        "text/html": [
                            "<table>",
                            "<tr><th>SZOBA_SZAMA</th><th>Foglalás éve</th><th>(No column name)</th></tr>",
                            "<tr><td>1</td><td>2016</td><td>52</td></tr>",
                            "<tr><td>1</td><td>2017</td><td>5</td></tr>",
                            "<tr><td>1</td><td>NULL</td><td>57</td></tr>",
                            "<tr><td>10</td><td>2016</td><td>31</td></tr>",
                            "<tr><td>10</td><td>2017</td><td>4</td></tr>",
                            "<tr><td>10</td><td>NULL</td><td>35</td></tr>",
                            "<tr><td>11</td><td>2016</td><td>22</td></tr>",
                            "<tr><td>11</td><td>2017</td><td>6</td></tr>",
                            "<tr><td>11</td><td>NULL</td><td>28</td></tr>",
                            "<tr><td>12</td><td>2016</td><td>29</td></tr>",
                            "<tr><td>12</td><td>2017</td><td>5</td></tr>",
                            "<tr><td>12</td><td>NULL</td><td>34</td></tr>",
                            "<tr><td>13</td><td>2016</td><td>14</td></tr>",
                            "<tr><td>13</td><td>2017</td><td>3</td></tr>",
                            "<tr><td>13</td><td>NULL</td><td>17</td></tr>",
                            "<tr><td>14</td><td>2016</td><td>20</td></tr>",
                            "<tr><td>14</td><td>2017</td><td>6</td></tr>",
                            "<tr><td>14</td><td>NULL</td><td>26</td></tr>",
                            "<tr><td>15</td><td>2016</td><td>16</td></tr>",
                            "<tr><td>15</td><td>2017</td><td>9</td></tr>",
                            "<tr><td>15</td><td>NULL</td><td>25</td></tr>",
                            "<tr><td>16</td><td>2016</td><td>12</td></tr>",
                            "<tr><td>16</td><td>2017</td><td>4</td></tr>",
                            "<tr><td>16</td><td>NULL</td><td>16</td></tr>",
                            "<tr><td>17</td><td>2016</td><td>16</td></tr>",
                            "<tr><td>17</td><td>2017</td><td>2</td></tr>",
                            "<tr><td>17</td><td>NULL</td><td>18</td></tr>",
                            "<tr><td>18</td><td>2016</td><td>19</td></tr>",
                            "<tr><td>18</td><td>2017</td><td>5</td></tr>",
                            "<tr><td>18</td><td>NULL</td><td>24</td></tr>",
                            "<tr><td>19</td><td>2016</td><td>14</td></tr>",
                            "<tr><td>19</td><td>2017</td><td>5</td></tr>",
                            "<tr><td>19</td><td>NULL</td><td>19</td></tr>",
                            "<tr><td>2</td><td>2016</td><td>40</td></tr>",
                            "<tr><td>2</td><td>2017</td><td>10</td></tr>",
                            "<tr><td>2</td><td>NULL</td><td>50</td></tr>",
                            "<tr><td>20</td><td>2016</td><td>18</td></tr>",
                            "<tr><td>20</td><td>2017</td><td>3</td></tr>",
                            "<tr><td>20</td><td>NULL</td><td>21</td></tr>",
                            "<tr><td>21</td><td>2016</td><td>29</td></tr>",
                            "<tr><td>21</td><td>2017</td><td>4</td></tr>",
                            "<tr><td>21</td><td>NULL</td><td>33</td></tr>",
                            "<tr><td>22</td><td>2016</td><td>14</td></tr>",
                            "<tr><td>22</td><td>2017</td><td>5</td></tr>",
                            "<tr><td>22</td><td>NULL</td><td>19</td></tr>",
                            "<tr><td>23</td><td>2016</td><td>18</td></tr>",
                            "<tr><td>23</td><td>2017</td><td>3</td></tr>",
                            "<tr><td>23</td><td>NULL</td><td>21</td></tr>",
                            "<tr><td>24</td><td>2016</td><td>16</td></tr>",
                            "<tr><td>24</td><td>2017</td><td>1</td></tr>",
                            "<tr><td>24</td><td>NULL</td><td>17</td></tr>",
                            "<tr><td>25</td><td>2016</td><td>17</td></tr>",
                            "<tr><td>25</td><td>2017</td><td>4</td></tr>",
                            "<tr><td>25</td><td>NULL</td><td>21</td></tr>",
                            "<tr><td>26</td><td>2016</td><td>5</td></tr>",
                            "<tr><td>26</td><td>2017</td><td>5</td></tr>",
                            "<tr><td>26</td><td>NULL</td><td>10</td></tr>",
                            "<tr><td>27</td><td>2016</td><td>12</td></tr>",
                            "<tr><td>27</td><td>2017</td><td>4</td></tr>",
                            "<tr><td>27</td><td>NULL</td><td>16</td></tr>",
                            "<tr><td>28</td><td>2016</td><td>11</td></tr>",
                            "<tr><td>28</td><td>2017</td><td>4</td></tr>",
                            "<tr><td>28</td><td>NULL</td><td>15</td></tr>",
                            "<tr><td>29</td><td>2016</td><td>15</td></tr>",
                            "<tr><td>29</td><td>2017</td><td>3</td></tr>",
                            "<tr><td>29</td><td>NULL</td><td>18</td></tr>",
                            "<tr><td>3</td><td>2016</td><td>53</td></tr>",
                            "<tr><td>3</td><td>2017</td><td>12</td></tr>",
                            "<tr><td>3</td><td>NULL</td><td>65</td></tr>",
                            "<tr><td>30</td><td>2016</td><td>9</td></tr>",
                            "<tr><td>30</td><td>2017</td><td>3</td></tr>",
                            "<tr><td>30</td><td>NULL</td><td>12</td></tr>",
                            "<tr><td>31</td><td>2016</td><td>19</td></tr>",
                            "<tr><td>31</td><td>2017</td><td>2</td></tr>",
                            "<tr><td>31</td><td>NULL</td><td>21</td></tr>",
                            "<tr><td>32</td><td>2016</td><td>13</td></tr>",
                            "<tr><td>32</td><td>2017</td><td>5</td></tr>",
                            "<tr><td>32</td><td>NULL</td><td>18</td></tr>",
                            "<tr><td>33</td><td>2016</td><td>17</td></tr>",
                            "<tr><td>33</td><td>NULL</td><td>17</td></tr>",
                            "<tr><td>34</td><td>2016</td><td>19</td></tr>",
                            "<tr><td>34</td><td>2017</td><td>3</td></tr>",
                            "<tr><td>34</td><td>NULL</td><td>22</td></tr>",
                            "<tr><td>35</td><td>2016</td><td>5</td></tr>",
                            "<tr><td>35</td><td>NULL</td><td>5</td></tr>",
                            "<tr><td>36</td><td>2016</td><td>4</td></tr>",
                            "<tr><td>36</td><td>2017</td><td>2</td></tr>",
                            "<tr><td>36</td><td>NULL</td><td>6</td></tr>",
                            "<tr><td>37</td><td>2016</td><td>6</td></tr>",
                            "<tr><td>37</td><td>2017</td><td>1</td></tr>",
                            "<tr><td>37</td><td>NULL</td><td>7</td></tr>",
                            "<tr><td>38</td><td>2016</td><td>3</td></tr>",
                            "<tr><td>38</td><td>2017</td><td>2</td></tr>",
                            "<tr><td>38</td><td>NULL</td><td>5</td></tr>",
                            "<tr><td>39</td><td>2016</td><td>2</td></tr>",
                            "<tr><td>39</td><td>2017</td><td>2</td></tr>",
                            "<tr><td>39</td><td>NULL</td><td>4</td></tr>",
                            "<tr><td>4</td><td>2016</td><td>64</td></tr>",
                            "<tr><td>4</td><td>2017</td><td>11</td></tr>",
                            "<tr><td>4</td><td>NULL</td><td>75</td></tr>",
                            "<tr><td>5</td><td>2016</td><td>53</td></tr>",
                            "<tr><td>5</td><td>2017</td><td>9</td></tr>",
                            "<tr><td>5</td><td>NULL</td><td>62</td></tr>",
                            "<tr><td>6</td><td>2016</td><td>48</td></tr>",
                            "<tr><td>6</td><td>2017</td><td>4</td></tr>",
                            "<tr><td>6</td><td>NULL</td><td>52</td></tr>",
                            "<tr><td>7</td><td>2016</td><td>32</td></tr>",
                            "<tr><td>7</td><td>2017</td><td>4</td></tr>",
                            "<tr><td>7</td><td>NULL</td><td>36</td></tr>",
                            "<tr><td>8</td><td>2016</td><td>24</td></tr>",
                            "<tr><td>8</td><td>2017</td><td>6</td></tr>",
                            "<tr><td>8</td><td>NULL</td><td>30</td></tr>",
                            "<tr><td>9</td><td>2016</td><td>41</td></tr>",
                            "<tr><td>9</td><td>2017</td><td>9</td></tr>",
                            "<tr><td>9</td><td>NULL</td><td>50</td></tr>",
                            "<tr><td>NULL</td><td>NULL</td><td>1027</td></tr>",
                            "</table>"
                        ]
                    }
                }
            ],
            "execution_count": 16
        },
        {
            "cell_type": "code",
            "source": [
                ""
            ],
            "metadata": {
                "azdata_cell_guid": "f5dcd81d-a907-45c0-8549-a2c14ee1a059",
                "language": "sql"
            },
            "outputs": [],
            "execution_count": null
        },
        {
            "cell_type": "code",
            "source": [
                ""
            ],
            "metadata": {
                "azdata_cell_guid": "57843047-d168-45f3-91d9-acbb2019b707",
                "language": "sql"
            },
            "outputs": [],
            "execution_count": null
        },
        {
            "cell_type": "markdown",
            "source": [
                ""
            ],
            "metadata": {
                "azdata_cell_guid": "05e8169a-883e-4d9f-9056-e4628c2f44ce"
            }
        }
    ]
}